{
  "nbformat": 4,
  "nbformat_minor": 0,
  "metadata": {
    "colab": {
      "name": "Final Projesi Açıklamalar.ipynb",
      "provenance": [],
      "collapsed_sections": []
    },
    "kernelspec": {
      "name": "python3",
      "display_name": "Python 3"
    },
    "language_info": {
      "name": "python"
    }
  },
  "cells": [
    {
      "cell_type": "markdown",
      "source": [
        "Klasörde sunulan `landslide.csv` dosyası üzerinde sınıflandırma çalışması yapılacaktır. Veriyi inceleyelim."
      ],
      "metadata": {
        "id": "qnj0H3dl1cCc"
      }
    },
    {
      "cell_type": "code",
      "source": [
        ""
      ],
      "metadata": {
        "colab": {
          "base_uri": "https://localhost:8080/",
          "height": 206
        },
        "id": "I-NlpBPH1QOS",
        "outputId": "cbd9f47e-f467-43e1-e69f-8260d4b3b7aa"
      },
      "execution_count": 4,
      "outputs": [
        {
          "output_type": "execute_result",
          "data": {
            "text/html": [
              "<div>\n",
              "<style scoped>\n",
              "    .dataframe tbody tr th:only-of-type {\n",
              "        vertical-align: middle;\n",
              "    }\n",
              "\n",
              "    .dataframe tbody tr th {\n",
              "        vertical-align: top;\n",
              "    }\n",
              "\n",
              "    .dataframe thead th {\n",
              "        text-align: right;\n",
              "    }\n",
              "</style>\n",
              "<table border=\"1\" class=\"dataframe\">\n",
              "  <thead>\n",
              "    <tr style=\"text-align: right;\">\n",
              "      <th></th>\n",
              "      <th>CLASS</th>\n",
              "      <th>FlowAccumul</th>\n",
              "      <th>FlowLength</th>\n",
              "      <th>GeneralCurv</th>\n",
              "      <th>PlanCurvatu</th>\n",
              "      <th>ProfileCurv</th>\n",
              "      <th>Slope</th>\n",
              "      <th>TRI</th>\n",
              "      <th>TWI</th>\n",
              "      <th>LSI</th>\n",
              "    </tr>\n",
              "  </thead>\n",
              "  <tbody>\n",
              "    <tr>\n",
              "      <th>0</th>\n",
              "      <td>1</td>\n",
              "      <td>1346.230347</td>\n",
              "      <td>323.224487</td>\n",
              "      <td>-0.0256</td>\n",
              "      <td>0.001624</td>\n",
              "      <td>-0.009513</td>\n",
              "      <td>27.543671</td>\n",
              "      <td>4.636809</td>\n",
              "      <td>2.774437</td>\n",
              "      <td>1.355269</td>\n",
              "    </tr>\n",
              "    <tr>\n",
              "      <th>1</th>\n",
              "      <td>1</td>\n",
              "      <td>223.284332</td>\n",
              "      <td>49.480324</td>\n",
              "      <td>0.0256</td>\n",
              "      <td>0.141421</td>\n",
              "      <td>0.004777</td>\n",
              "      <td>3.237688</td>\n",
              "      <td>0.707107</td>\n",
              "      <td>4.476923</td>\n",
              "      <td>-4.182473</td>\n",
              "    </tr>\n",
              "    <tr>\n",
              "      <th>2</th>\n",
              "      <td>1</td>\n",
              "      <td>3400.878662</td>\n",
              "      <td>508.674835</td>\n",
              "      <td>-0.0128</td>\n",
              "      <td>-0.022827</td>\n",
              "      <td>-0.002531</td>\n",
              "      <td>9.365158</td>\n",
              "      <td>1.500000</td>\n",
              "      <td>3.367058</td>\n",
              "      <td>-0.582811</td>\n",
              "    </tr>\n",
              "    <tr>\n",
              "      <th>3</th>\n",
              "      <td>0</td>\n",
              "      <td>1706.901001</td>\n",
              "      <td>66.939171</td>\n",
              "      <td>0.0000</td>\n",
              "      <td>-0.031982</td>\n",
              "      <td>0.006136</td>\n",
              "      <td>11.527973</td>\n",
              "      <td>1.870829</td>\n",
              "      <td>4.270581</td>\n",
              "      <td>-6.446020</td>\n",
              "    </tr>\n",
              "    <tr>\n",
              "      <th>4</th>\n",
              "      <td>0</td>\n",
              "      <td>962.687439</td>\n",
              "      <td>172.056305</td>\n",
              "      <td>0.0000</td>\n",
              "      <td>-0.028284</td>\n",
              "      <td>0.003140</td>\n",
              "      <td>6.454830</td>\n",
              "      <td>1.000000</td>\n",
              "      <td>4.092038</td>\n",
              "      <td>-6.446020</td>\n",
              "    </tr>\n",
              "  </tbody>\n",
              "</table>\n",
              "</div>"
            ],
            "text/plain": [
              "   CLASS  FlowAccumul  FlowLength  ...       TRI       TWI       LSI\n",
              "0      1  1346.230347  323.224487  ...  4.636809  2.774437  1.355269\n",
              "1      1   223.284332   49.480324  ...  0.707107  4.476923 -4.182473\n",
              "2      1  3400.878662  508.674835  ...  1.500000  3.367058 -0.582811\n",
              "3      0  1706.901001   66.939171  ...  1.870829  4.270581 -6.446020\n",
              "4      0   962.687439  172.056305  ...  1.000000  4.092038 -6.446020\n",
              "\n",
              "[5 rows x 10 columns]"
            ]
          },
          "metadata": {},
          "execution_count": 4
        }
      ]
    },
    {
      "cell_type": "markdown",
      "source": [
        "Veri setindeki `CLASS`sütunu, seçilen veri satırında heyelan olup olmadığını belirtmektedir. 0, heyelan olmadığını; 1, heyelan olduğunu göstermektedir. Diğer sütunlar ise, modelin eğitimi için kullanılacak olan bağımsız değişkenlerdir. `CLASS` sütunu ise tahmin yapılacak olan bağımlı değişkendir."
      ],
      "metadata": {
        "id": "dt3XbPYi1d3q"
      }
    },
    {
      "cell_type": "markdown",
      "source": [
        "## İstenenler:\n",
        "\n",
        "1) Veri setinin ölçeklendirilmesi: Veri setindeki sütun değerlerinin farklı sayı aralıklarında olmasından ötürü, veri setinin ölçeklendirilmesi gerekmektedir.\n",
        "\n",
        "2) Veri setinden bağımlı ve bağımsız değişkenlerden oluşan NumPy dizilerinin (X ve y) hazırlanması gerekmektedir.\n",
        "\n",
        "3) Eğitim ve test verilerinin %70-%30 oranlarında ayrılması gerekmektedir.\n",
        "\n",
        "4) Eğitim için kullanılacak algoritmalar:\n",
        "\n",
        "  - Destek Vektör Makinesi (SVC)\n",
        "  - Rastgele Orman (RandomForestClassifier)\n",
        "  - Lojistik Regresyon (bunu göstermedim ancak aşağıdaki kodla oluşturabilirsiniz).\n",
        "  "
      ],
      "metadata": {
        "id": "JR5FkjXa15gz"
      }
    },
    {
      "cell_type": "code",
      "source": [
        "from sklearn.linear_model import LogisticRegression\n",
        "logreg = LogisticRegression()\n",
        "logreg.fit(X_train, y_train)\n",
        "y_pred = logreg.predict(X_test)"
      ],
      "metadata": {
        "id": "BwsH2_6X2m8S"
      },
      "execution_count": null,
      "outputs": []
    },
    {
      "cell_type": "markdown",
      "source": [
        "5) Üç algoritma ile üç model eğitildikten sonra, test verileri üzerine tahmin işlemini gerçekleştirmelisiniz.\n",
        "\n",
        "6) Her bir modelin eğitim ve test doğruluğunu (accuracy), precision, recall, F1 skorlarını hesaplamalısınız. Karmaşıklık matrislerini (confusion matrix) göstermelisiniz.\n",
        "\n",
        "7) Her bir modelin ROC eğrilerini tek bir grafikte farklı renklerle çizmelisiniz ve AUC skorlarını hesaplamalısınız. \n",
        "\n",
        "8) Model performanslarını karşılaştıran ve yorumlayan bir paragraf metin hazırlamalısınız. \n",
        "\n",
        "BAŞARILAR DİLERİM."
      ],
      "metadata": {
        "id": "YX2agWX62wFp"
      }
    }
  ]
}